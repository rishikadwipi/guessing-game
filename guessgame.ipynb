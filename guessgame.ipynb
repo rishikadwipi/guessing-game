{
  "nbformat": 4,
  "nbformat_minor": 0,
  "metadata": {
    "colab": {
      "name": "guessgame.ipynb",
      "provenance": []
    },
    "kernelspec": {
      "name": "python3",
      "display_name": "Python 3"
    },
    "language_info": {
      "name": "python"
    }
  },
  "cells": [
    {
      "cell_type": "code",
      "metadata": {
        "id": "fa7SVnsZjqos"
      },
      "source": [
        "\n"
      ],
      "execution_count": null,
      "outputs": []
    },
    {
      "cell_type": "code",
      "metadata": {
        "id": "0DWiVKQKi-ZJ"
      },
      "source": [
        "import random\n",
        "# library that we use in order to choose\n",
        "# on random words from a list of words\n",
        " \n",
        "name = input(\"What is your name? \")\n",
        "# Here the user is asked to enter the name first\n",
        " \n",
        "print(\"Good Luck ! \", name)\n",
        " \n",
        "words = ['excitement', 'roadtrip', 'trekking', 'diving',\n",
        "         'snorkling', 'unicorn', 'vacation', 'holiday',\n",
        "         'visiting', 'chill', 'netflix', 'weekend']\n",
        " \n",
        "# Function will choose one random\n",
        "# word from this list of words\n",
        "word = random.choice(words)\n",
        " \n",
        " \n",
        "print(\"Guess the characters\")\n",
        " \n",
        "guesses = ''\n",
        " \n",
        "# any number of turns can be used here\n",
        "turns = 12\n",
        " \n",
        " \n",
        "while turns > 0:\n",
        "     \n",
        "    # counts the number of times a user fails\n",
        "    failed = 0\n",
        "     \n",
        "    # all characters from the input\n",
        "    # word taking one at a time.\n",
        "    for char in word:\n",
        "         \n",
        "        # comparing that character with\n",
        "        # the character in guesses\n",
        "        if char in guesses:\n",
        "            print(char)\n",
        "             \n",
        "        else:\n",
        "            print(\"_\")\n",
        "             \n",
        "            # for every failure 1 will be\n",
        "            # incremented in failure\n",
        "            failed += 1\n",
        "             \n",
        " \n",
        "    if failed == 0:\n",
        "        # user will win the game if failure is 0\n",
        "        # and 'You Win' will be given as output\n",
        "        print(\"You Win\")\n",
        "         \n",
        "        # this print the correct word\n",
        "        print(\"The word is: \", word)\n",
        "        break\n",
        "     \n",
        "    # if user has input the wrong alphabet then\n",
        "    # it will ask user to enter another alphabet\n",
        "    guess = input(\"guess a character:\")\n",
        "     \n",
        "    # every input character will be stored in guesses\n",
        "    guesses += guess\n",
        "     \n",
        "    # check input with the character in word\n",
        "    if guess not in word:\n",
        "         \n",
        "        turns -= 1\n",
        "         \n",
        "        # if the character doesn’t match the word\n",
        "        # then “Wrong” will be given as output\n",
        "        print(\"Wrong\")\n",
        "         \n",
        "        # this will print the number of\n",
        "        # turns left for the user\n",
        "        print(\"You have\", + turns, 'more guesses')\n",
        "         \n",
        "         \n",
        "        if turns == 0:\n",
        "            print(\"You Loose\")"
      ],
      "execution_count": null,
      "outputs": []
    }
  ]
}